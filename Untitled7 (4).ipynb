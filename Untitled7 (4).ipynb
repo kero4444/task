{
 "cells": [
  {
   "cell_type": "code",
   "execution_count": 28,
   "id": "633c656b-bf34-49ea-9389-6b8073ad51d2",
   "metadata": {},
   "outputs": [
    {
     "name": "stdout",
     "output_type": "stream",
     "text": [
      "{'kero': 5113517726, 'mohamed': 31265427894, 'amin': 441055200925}\n"
     ]
    }
   ],
   "source": [
    "contacts = {\n",
    "    \"kero\":5113517726 ,\n",
    "    \"mohamed\":31265427894 ,\n",
    "    \"amin\":441055200925 \n",
    "}\n",
    "print(contacts)"
   ]
  },
  {
   "cell_type": "code",
   "execution_count": 64,
   "id": "137385ac-003d-445e-893a-1893d2856c96",
   "metadata": {},
   "outputs": [
    {
     "name": "stdout",
     "output_type": "stream",
     "text": [
      "kero 34.666666666666664\n",
      "ali 18.666666666666668\n",
      "essam 95.66666666666667\n"
     ]
    }
   ],
   "source": [
    "students = [\n",
    "    {\"name\": \"kero\", \"grades\": [55, 20, 29]},\n",
    "    {\"name\": \"ali\", \"grades\": [20, 22, 14]},\n",
    "    {\"name\": \"essam\", \"grades\": [99, 98, 90]},\n",
    "]\n",
    "for students in students:\n",
    "    name = students[\"name\"]\n",
    "    grades = students[\"grades\"]\n",
    "    average = sum(grades) / len(grades)\n",
    "    print(name , average)\n"
   ]
  }
 ],
 "metadata": {
  "kernelspec": {
   "display_name": "Python 3 (ipykernel)",
   "language": "python",
   "name": "python3"
  },
  "language_info": {
   "codemirror_mode": {
    "name": "ipython",
    "version": 3
   },
   "file_extension": ".py",
   "mimetype": "text/x-python",
   "name": "python",
   "nbconvert_exporter": "python",
   "pygments_lexer": "ipython3",
   "version": "3.13.5"
  }
 },
 "nbformat": 4,
 "nbformat_minor": 5
}
